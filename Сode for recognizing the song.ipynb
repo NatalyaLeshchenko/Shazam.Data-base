{
 "cells": [
  {
   "cell_type": "code",
   "execution_count": 44,
   "metadata": {},
   "outputs": [],
   "source": [
    "import numpy as np\n",
    "import pandas as pd\n",
    "import librosa\n",
    "from scipy.fftpack import fft\n",
    "from scipy.signal import find_peaks\n",
    "from scipy.spatial.distance import correlation\n",
    "from scipy.interpolate import interp1d\n",
    "from pydub import AudioSegment"
   ]
  },
  {
   "cell_type": "markdown",
   "metadata": {},
   "source": [
    "Загрузка аудиофайла"
   ]
  },
  {
   "cell_type": "code",
   "execution_count": 45,
   "metadata": {},
   "outputs": [
    {
     "data": {
      "text/plain": [
       "<_io.BufferedRandom name='temp.wav'>"
      ]
     },
     "execution_count": 45,
     "metadata": {},
     "output_type": "execute_result"
    }
   ],
   "source": [
    "audio = AudioSegment.from_file(r\"C:\\Users\\Natalya\\Documents\\Звукозаписи\\Запись (5).m4a\", \"mp4\")\n",
    "audio.export(\"temp.wav\", format=\"wav\")"
   ]
  },
  {
   "cell_type": "markdown",
   "metadata": {},
   "source": [
    "Загрузка WAV-файла"
   ]
  },
  {
   "cell_type": "code",
   "execution_count": 46,
   "metadata": {},
   "outputs": [],
   "source": [
    "y, sr = librosa.load(\"temp.wav\", sr=None)"
   ]
  },
  {
   "cell_type": "markdown",
   "metadata": {},
   "source": [
    "Применение  преобразования Фурье"
   ]
  },
  {
   "cell_type": "code",
   "execution_count": 47,
   "metadata": {},
   "outputs": [],
   "source": [
    "D = np.abs(librosa.stft(y))\n",
    "D_avg = np.mean(D, axis=0)\n",
    "peaks, _ = find_peaks(D_avg)"
   ]
  },
  {
   "cell_type": "markdown",
   "metadata": {},
   "source": [
    "Сравнение пиков с данными в Exel"
   ]
  },
  {
   "cell_type": "code",
   "execution_count": 48,
   "metadata": {},
   "outputs": [],
   "source": [
    "df = pd.read_excel('C:/Users/Natalya/Downloads/peaks.xlsx')\n",
    "\n",
    "min_corr = float('inf')  \n",
    "best_match = None  "
   ]
  },
  {
   "cell_type": "markdown",
   "metadata": {},
   "source": [
    "Интерполяция пиков, если они разной длины"
   ]
  },
  {
   "cell_type": "code",
   "execution_count": 49,
   "metadata": {},
   "outputs": [],
   "source": [
    "for index, row in df.iterrows():\n",
    "    song_peaks = [int(peak) for peak in row['Peaks'].split(',')]\n",
    "    song_name = row['Song Name']\n",
    "    \n",
    "    # Интерполяция пиков, если они разной длины\n",
    "    if len(peaks) != len(song_peaks):\n",
    "        f = interp1d(np.linspace(0, 1, len(song_peaks)), song_peaks)\n",
    "        song_peaks = f(np.linspace(0, 1, len(peaks)))\n",
    "    \n",
    "    # Сравнение пиков\n",
    "    corr = correlation(peaks, song_peaks)\n",
    "    if corr < min_corr:  # Если корреляция меньше минимальной, обновляет минимальную корреляцию и лучшее совпадение\n",
    "        min_corr = corr\n",
    "        best_match = song_name"
   ]
  },
  {
   "cell_type": "code",
   "execution_count": 50,
   "metadata": {},
   "outputs": [
    {
     "name": "stdout",
     "output_type": "stream",
     "text": [
      "Найденная песня: The Weekend, Blinding Lights\n"
     ]
    }
   ],
   "source": [
    "print(f\"Найденная песня: {best_match}\")\n"
   ]
  }
 ],
 "metadata": {
  "kernelspec": {
   "display_name": "Python 3",
   "language": "python",
   "name": "python3"
  },
  "language_info": {
   "codemirror_mode": {
    "name": "ipython",
    "version": 3
   },
   "file_extension": ".py",
   "mimetype": "text/x-python",
   "name": "python",
   "nbconvert_exporter": "python",
   "pygments_lexer": "ipython3",
   "version": "3.9.13"
  }
 },
 "nbformat": 4,
 "nbformat_minor": 2
}
